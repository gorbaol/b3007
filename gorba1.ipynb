{
  "metadata": {
    "widgets": {
      "application/vnd.jupyter.widget-state+json": {
        "version_major": 2,
        "version_minor": 0,
        "state": {}
      }
    },
    "language_info": {
      "codemirror_mode": {
        "name": "python",
        "version": 3
      },
      "file_extension": ".py",
      "mimetype": "text/x-python",
      "name": "python",
      "nbconvert_exporter": "python",
      "pygments_lexer": "ipython3",
      "version": "3.8"
    },
    "kernelspec": {
      "name": "python",
      "display_name": "Python (Pyodide)",
      "language": "python"
    }
  },
  "nbformat_minor": 4,
  "nbformat": 4,
  "cells": [
    {
      "cell_type": "code",
      "source": "x=5\ndef inv(x):\n    # Ваш код ниже:\n    return 1/x\ninv(x)",
      "metadata": {
        "trusted": true
      },
      "execution_count": 5,
      "outputs": [
        {
          "execution_count": 5,
          "output_type": "execute_result",
          "data": {
            "text/plain": "0.2"
          },
          "metadata": {}
        }
      ]
    },
    {
      "cell_type": "code",
      "source": "def inv(x):\n    # Ваш код ниже:\n    return 1/x\ninv(x)\n# Должно быть истинно:\ninv(x) == 0.2 ",
      "metadata": {
        "trusted": true
      },
      "execution_count": 6,
      "outputs": [
        {
          "execution_count": 6,
          "output_type": "execute_result",
          "data": {
            "text/plain": "True"
          },
          "metadata": {}
        }
      ]
    },
    {
      "cell_type": "code",
      "source": "# 1 вариант с четным количеством с списке\narray=[1, 4, 6, 5, 2, 100]\ndef median(array):\n    # Ваш код ниже:\n    array.sort()\n    # вычисляем длину списка\n    dl=len(array)\n    if (dl % 2) == 0:\n        print('четный список')\n        med=(array[(dl // 2)-1]+array[(dl // 2)]) / 2\n        print(type(med))\n    else:\n        print('нечетный список')\n        med=array[dl // 2]\n        print(type(med))\n    return med\n\nrezult=median(array)\nrezult",
      "metadata": {
        "trusted": true
      },
      "execution_count": 52,
      "outputs": [
        {
          "name": "stdout",
          "text": "четный список\n<class 'float'>\n",
          "output_type": "stream"
        },
        {
          "execution_count": 52,
          "output_type": "execute_result",
          "data": {
            "text/plain": "4.5"
          },
          "metadata": {}
        }
      ]
    },
    {
      "cell_type": "code",
      "source": "# 2 вариант с НЕ четным количеством с списке\narray=[25, 1, 4, 6, 5, 2, 100]\ndef median(array):\n    # Ваш код ниже:\n    array.sort()\n    # вычисляем длину списка\n    dl=len(array)\n    if (dl % 2) == 0:\n        print('четный список')\n        med=(array[(dl // 2)-1]+array[(dl // 2)]) / 2\n        print(type(med))\n    else:\n        print('нечетный список')\n        med=array[dl // 2]\n        print(type(med))\n    return med\n\nrezult=median(array)\nrezult",
      "metadata": {
        "trusted": true
      },
      "execution_count": 53,
      "outputs": [
        {
          "name": "stdout",
          "text": "нечетный список\n<class 'int'>\n",
          "output_type": "stream"
        },
        {
          "execution_count": 53,
          "output_type": "execute_result",
          "data": {
            "text/plain": "5"
          },
          "metadata": {}
        }
      ]
    },
    {
      "cell_type": "raw",
      "source": " в 1-м варианте возвращаемое значение имеет тип float\n в 2-м варианте возвращаемое значение имеет тип int",
      "metadata": {}
    },
    {
      "cell_type": "code",
      "source": "#sort_by_ext([\"1.cad\", \"1.bat\", \"1.aa\"])\nspisokfile=([\"1.cad\", \"1.bat\", \"1.aa\"])\ndef sort_by_ext(spisok):    \n    spisokfile.sort()\n    return\n\nsort_by_ext(spisokfile)\nprint(spisokfile)\n",
      "metadata": {
        "trusted": true
      },
      "execution_count": 76,
      "outputs": [
        {
          "name": "stdout",
          "text": "['1.aa', '1.bat', '1.cad']\n",
          "output_type": "stream"
        }
      ]
    },
    {
      "cell_type": "code",
      "source": "",
      "metadata": {},
      "execution_count": null,
      "outputs": []
    }
  ]
}