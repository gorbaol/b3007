{
 "cells": [
  {
   "cell_type": "code",
   "execution_count": 4,
   "id": "5c3b7d94-b17b-42ec-8dda-881464601f95",
   "metadata": {},
   "outputs": [],
   "source": [
    "x=2"
   ]
  },
  {
   "cell_type": "code",
   "execution_count": 5,
   "id": "7fa9beb4-4688-4b69-a67c-d6068b55c34d",
   "metadata": {},
   "outputs": [],
   "source": [
    "y=x+2"
   ]
  },
  {
   "cell_type": "code",
   "execution_count": 6,
   "id": "583ecc10-c10d-4190-aee6-f9a11fb0a2e6",
   "metadata": {},
   "outputs": [
    {
     "name": "stdout",
     "output_type": "stream",
     "text": [
      "4\n"
     ]
    }
   ],
   "source": [
    "print(y)"
   ]
  },
  {
   "cell_type": "code",
   "execution_count": 8,
   "id": "f87a93aa-4c07-41f7-8d92-34e8ee96c208",
   "metadata": {},
   "outputs": [
    {
     "name": "stdout",
     "output_type": "stream",
     "text": [
      "1\n"
     ]
    }
   ],
   "source": [
    "print(5 // 3)\n"
   ]
  },
  {
   "cell_type": "code",
   "execution_count": 11,
   "id": "862fb60c-4623-4488-a056-4892f2795a09",
   "metadata": {},
   "outputs": [],
   "source": [
    "x += 1"
   ]
  },
  {
   "cell_type": "code",
   "execution_count": 13,
   "id": "f320c86a-46c3-412c-a7f5-6c5556d2a5dc",
   "metadata": {},
   "outputs": [
    {
     "name": "stdout",
     "output_type": "stream",
     "text": [
      "3\n"
     ]
    }
   ],
   "source": [
    "print(x)"
   ]
  },
  {
   "cell_type": "code",
   "execution_count": 14,
   "id": "6502ad86-a330-46d4-9952-c306e38428de",
   "metadata": {},
   "outputs": [],
   "source": [
    "def sqrt(x):\n",
    "    return x ** 0.5"
   ]
  },
  {
   "cell_type": "code",
   "execution_count": 15,
   "id": "96a90bcc-e4e2-41a0-a3dd-190fd5244b56",
   "metadata": {},
   "outputs": [
    {
     "data": {
      "text/plain": [
       "1.4142135623730951"
      ]
     },
     "execution_count": 15,
     "metadata": {},
     "output_type": "execute_result"
    }
   ],
   "source": [
    "sqrt(2)"
   ]
  },
  {
   "cell_type": "code",
   "execution_count": 16,
   "id": "93cabefe-bf90-4ea6-8f46-585215611507",
   "metadata": {},
   "outputs": [
    {
     "data": {
      "text/plain": [
       "1.7320508075688772"
      ]
     },
     "execution_count": 16,
     "metadata": {},
     "output_type": "execute_result"
    }
   ],
   "source": [
    "sqrt(3)"
   ]
  },
  {
   "cell_type": "code",
   "execution_count": 20,
   "id": "c80884fa-5671-4bea-a721-c618dc131f4e",
   "metadata": {},
   "outputs": [],
   "source": [
    "s='test'"
   ]
  },
  {
   "cell_type": "code",
   "execution_count": 21,
   "id": "e135b5a3-3811-4316-85c4-dca161756b09",
   "metadata": {},
   "outputs": [
    {
     "data": {
      "text/plain": [
       "'test'"
      ]
     },
     "execution_count": 21,
     "metadata": {},
     "output_type": "execute_result"
    }
   ],
   "source": [
    "s"
   ]
  },
  {
   "cell_type": "code",
   "execution_count": 22,
   "id": "a5adc94b-5ec6-423f-af35-c6e71338af9e",
   "metadata": {},
   "outputs": [
    {
     "name": "stdout",
     "output_type": "stream",
     "text": [
      "test\n"
     ]
    }
   ],
   "source": [
    "print(s)"
   ]
  },
  {
   "cell_type": "code",
   "execution_count": 23,
   "id": "2a0b1ee4-c35a-4ea6-a06b-8888201e6550",
   "metadata": {},
   "outputs": [
    {
     "data": {
      "text/plain": [
       "'nn2 jjjjjj5'"
      ]
     },
     "execution_count": 23,
     "metadata": {},
     "output_type": "execute_result"
    }
   ],
   "source": [
    "'nn2'+' jjjjjj5'"
   ]
  },
  {
   "cell_type": "code",
   "execution_count": 25,
   "id": "47f7302b-9e35-4a6d-bc21-d60ad3a4bc9a",
   "metadata": {},
   "outputs": [
    {
     "data": {
      "text/plain": [
       "'nn2 jjjjjj5'"
      ]
     },
     "execution_count": 25,
     "metadata": {},
     "output_type": "execute_result"
    }
   ],
   "source": [
    "'nn2'+' jjjjjj5'"
   ]
  },
  {
   "cell_type": "code",
   "execution_count": 26,
   "id": "1d0590af-2164-4208-87cf-133d41279a6f",
   "metadata": {},
   "outputs": [],
   "source": [
    "s='текcт'"
   ]
  },
  {
   "cell_type": "code",
   "execution_count": 27,
   "id": "d3f01699-d2c7-42ff-8ec2-e719a4185e6d",
   "metadata": {},
   "outputs": [
    {
     "data": {
      "text/plain": [
       "'е'"
      ]
     },
     "execution_count": 27,
     "metadata": {},
     "output_type": "execute_result"
    }
   ],
   "source": [
    "s[1]"
   ]
  },
  {
   "cell_type": "code",
   "execution_count": 28,
   "id": "5187e0af-2685-42ad-9655-d1646b68d654",
   "metadata": {},
   "outputs": [
    {
     "data": {
      "text/plain": [
       "5"
      ]
     },
     "execution_count": 28,
     "metadata": {},
     "output_type": "execute_result"
    }
   ],
   "source": [
    "len(s)"
   ]
  },
  {
   "cell_type": "code",
   "execution_count": 31,
   "id": "8f3255f2-6ee2-41f6-a9ac-58795c52400f",
   "metadata": {},
   "outputs": [],
   "source": [
    "s='киииит'"
   ]
  },
  {
   "cell_type": "code",
   "execution_count": 33,
   "id": "d86503ea-be86-47d5-ae65-a763bc611127",
   "metadata": {},
   "outputs": [
    {
     "data": {
      "text/plain": [
       "'кooиит'"
      ]
     },
     "execution_count": 33,
     "metadata": {},
     "output_type": "execute_result"
    }
   ],
   "source": [
    "s.replace('и','o', 2)"
   ]
  },
  {
   "cell_type": "code",
   "execution_count": 37,
   "id": "f2e69e74-999a-4a08-b1e4-866da993cff0",
   "metadata": {},
   "outputs": [
    {
     "data": {
      "text/plain": [
       "1"
      ]
     },
     "execution_count": 37,
     "metadata": {},
     "output_type": "execute_result"
    }
   ],
   "source": [
    "s.count('т')"
   ]
  },
  {
   "cell_type": "code",
   "execution_count": 38,
   "id": "9f00e75c-a1bb-4649-bb22-522f28d68555",
   "metadata": {},
   "outputs": [],
   "source": [
    "s='123'"
   ]
  },
  {
   "cell_type": "code",
   "execution_count": 39,
   "id": "9ab4ad28-1d41-4ab3-b26c-e7bdb9bc5406",
   "metadata": {},
   "outputs": [
    {
     "data": {
      "text/plain": [
       "123"
      ]
     },
     "execution_count": 39,
     "metadata": {},
     "output_type": "execute_result"
    }
   ],
   "source": [
    "int(s)"
   ]
  },
  {
   "cell_type": "code",
   "execution_count": 41,
   "id": "43340369-80da-49f9-87a9-514ec1f6b814",
   "metadata": {},
   "outputs": [
    {
     "data": {
      "text/plain": [
       "False"
      ]
     },
     "execution_count": 41,
     "metadata": {},
     "output_type": "execute_result"
    }
   ],
   "source": [
    "2+2==5"
   ]
  },
  {
   "cell_type": "code",
   "execution_count": 42,
   "id": "3ee065bd-8972-4a25-8dc6-d44989d316e8",
   "metadata": {},
   "outputs": [],
   "source": [
    "x=4"
   ]
  },
  {
   "cell_type": "code",
   "execution_count": 44,
   "id": "252a6bee-be15-4c85-b106-f9c72fe3f542",
   "metadata": {},
   "outputs": [
    {
     "name": "stdout",
     "output_type": "stream",
     "text": [
      ">2\n"
     ]
    }
   ],
   "source": [
    "if x>2:\n",
    "    print('>2')\n",
    "else:\n",
    "    print('<2')"
   ]
  },
  {
   "cell_type": "code",
   "execution_count": 47,
   "id": "18a65f2d-4cd8-4dfd-974c-7c0867fc67bf",
   "metadata": {},
   "outputs": [],
   "source": [
    "l=[1,2,3, 'aaa']"
   ]
  },
  {
   "cell_type": "code",
   "execution_count": 48,
   "id": "bddaa184-09ba-447f-9cb7-d080cc45676f",
   "metadata": {},
   "outputs": [
    {
     "data": {
      "text/plain": [
       "[1, 2, 3, 'aaa']"
      ]
     },
     "execution_count": 48,
     "metadata": {},
     "output_type": "execute_result"
    }
   ],
   "source": [
    "l"
   ]
  },
  {
   "cell_type": "code",
   "execution_count": 50,
   "id": "695b2619-23a7-4d8e-a3f2-6ac1af4a064d",
   "metadata": {},
   "outputs": [],
   "source": [
    "l[1]=5"
   ]
  },
  {
   "cell_type": "code",
   "execution_count": 51,
   "id": "e5f65f7b-cf3c-4c53-82a9-551ebbe083fc",
   "metadata": {},
   "outputs": [
    {
     "data": {
      "text/plain": [
       "[1, 5, 3, 'aaa']"
      ]
     },
     "execution_count": 51,
     "metadata": {},
     "output_type": "execute_result"
    }
   ],
   "source": [
    "l"
   ]
  },
  {
   "cell_type": "code",
   "execution_count": null,
   "id": "3c0fe9ab-296c-4039-9d4d-b8139ced2b25",
   "metadata": {},
   "outputs": [],
   "source": []
  }
 ],
 "metadata": {
  "kernelspec": {
   "display_name": "Python 3 (ipykernel)",
   "language": "python",
   "name": "python3"
  },
  "language_info": {
   "codemirror_mode": {
    "name": "ipython",
    "version": 3
   },
   "file_extension": ".py",
   "mimetype": "text/x-python",
   "name": "python",
   "nbconvert_exporter": "python",
   "pygments_lexer": "ipython3",
   "version": "3.11.3"
  }
 },
 "nbformat": 4,
 "nbformat_minor": 5
}
